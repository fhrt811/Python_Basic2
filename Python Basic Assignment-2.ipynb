{
 "cells": [
  {
   "cell_type": "raw",
   "id": "3aee43eb",
   "metadata": {},
   "source": [
    "Q1:\n",
    "What are the two values of the Boolean data type?How do you write them?"
   ]
  },
  {
   "cell_type": "raw",
   "id": "cc833612",
   "metadata": {},
   "source": [
    "Ans1:\n",
    "The two values of the Boolean data types are 'True' and 'False' generally referred as 1 and 0.\n",
    "keeping 'T' and 'F' capital in 'True' and 'False' respectively."
   ]
  },
  {
   "cell_type": "raw",
   "id": "810a36a6",
   "metadata": {},
   "source": [
    "Q2:\n",
    "What are the three Boolean operators?"
   ]
  },
  {
   "cell_type": "raw",
   "id": "bc3a1f71",
   "metadata": {},
   "source": [
    "Ans2:\n",
    "The Three Boolean Operators are 'AND', 'OR', and 'NOT'"
   ]
  },
  {
   "cell_type": "raw",
   "id": "38dfbbb1",
   "metadata": {},
   "source": [
    "Q3:\n",
    "Make a list of of each Boolean operator's truth tables(i.e. every possible combination of Boolean values for the operator and what it evaluate )."
   ]
  },
  {
   "cell_type": "raw",
   "id": "9c3a496d",
   "metadata": {},
   "source": [
    "Ans3:\n",
    "1) True AND True is True.\n",
    "2) True AND False is False.\n",
    "3) False AND True is False.\n",
    "4) False AND False is False.\n",
    "5) True OR True is True.\n",
    "6) True OR False is True.\n",
    "7) False OR True is True.\n",
    "8) False OR False is False.\n",
    "9) NOT True is False.\n",
    "10) NOT False is True."
   ]
  },
  {
   "cell_type": "raw",
   "id": "bc9fe7fa",
   "metadata": {},
   "source": [
    "Q4:\n",
    "What are the values of the following expressions?\n",
    "\n",
    "(5>4)and(3==5)\n",
    "not(5>4)\n",
    "(5>4)or(3==5)\n",
    "not((5>4)or(3==5))\n",
    "(True and True)and(True==False)\n",
    "(not False)or(not True)"
   ]
  },
  {
   "cell_type": "raw",
   "id": "cc25f7e9",
   "metadata": {},
   "source": [
    "Ans4:\n",
    "(5>4)AND(3==5)  -  False\n",
    "NOT(5>4)  -  False\n",
    "(5>4)OR(3==5)  -  True\n",
    "NOT((5>4)OR(3==5))  -  False\n",
    "(True AND True)AND(True==False)  -  False\n",
    "(NOT False)OR(NOT True)  -  True"
   ]
  },
  {
   "cell_type": "raw",
   "id": "75dbcd23",
   "metadata": {},
   "source": [
    "Q5:\n",
    "What are the six comparison operators?"
   ]
  },
  {
   "cell_type": "raw",
   "id": "50c4c431",
   "metadata": {},
   "source": [
    "Ans5:\n",
    "The comparison operators are:\n",
    "less than (<), Greater than (>), Less than or equal to (<=), Greater than or equal to (>=), equal to (==) and not equal to (!=)"
   ]
  },
  {
   "cell_type": "raw",
   "id": "ea23594f",
   "metadata": {},
   "source": [
    "Q6:\n",
    "How do you tell the difference between the equal to and assignment operator?Describe a condition and when you would use one."
   ]
  },
  {
   "cell_type": "raw",
   "id": "28106a64",
   "metadata": {},
   "source": [
    "Ans6:\n",
    "'==' is the 'equal to' operator which compares two values and evaluates to a Boolean 'True or False', while '=' is the 'assignment' operator that stores a value in a variable.\n",
    "A condition is an expression used in a flow control statement that evaluates to a Boolean value 'True' or 'False'."
   ]
  },
  {
   "cell_type": "raw",
   "id": "8d943bc1",
   "metadata": {},
   "source": [
    "Q7:\n",
    "Identify the three blocks in this code:\n",
    "spam=0\n",
    "if spam==10:\n",
    "print('eggs')\n",
    "if spam>5:\n",
    "print('bacon')\n",
    "else:\n",
    "print('ham')\n",
    "print('spam')\n",
    "print('spam')"
   ]
  },
  {
   "cell_type": "raw",
   "id": "35d47fd9",
   "metadata": {},
   "source": [
    "Ans7:\n",
    "if the value of spam will be equal to 10,\n",
    "'eggs' and 'bacon' will be printed\n",
    "\n",
    "if the value of spam is greater than 5, any value except 10 then 'bacon' will be printed\n",
    "\n",
    "if both the conditions are false, then 'ham', 'spam', 'spam' will be printed."
   ]
  },
  {
   "cell_type": "raw",
   "id": "9889e668",
   "metadata": {},
   "source": [
    "Q8:\n",
    "Write code that prints Hello if 1 is stored in spam, prints Howdy if 2 is stored in spam, and prints Greetings! if anything else is stored in spam."
   ]
  },
  {
   "cell_type": "raw",
   "id": "c8083202",
   "metadata": {},
   "source": [
    "Ans8:\n",
    "if spam == 1:\n",
    "    print('Hello')\n",
    "elif spam == 2:\n",
    "    print('Howdy')\n",
    "else:\n",
    "    print('Greetings!')"
   ]
  },
  {
   "cell_type": "raw",
   "id": "ff9f32ce",
   "metadata": {},
   "source": [
    "Q9:\n",
    "If your program is stuck in an endless loop, What keys you'll press?"
   ]
  },
  {
   "cell_type": "raw",
   "id": "07adc5b3",
   "metadata": {},
   "source": [
    "Ans9:\n",
    "press Ctrl+C to stop the execution of program stuck in an endless loop."
   ]
  },
  {
   "cell_type": "raw",
   "id": "9d0b96f8",
   "metadata": {},
   "source": [
    "Q10:\n",
    "What is the difference between break and continue?"
   ]
  },
  {
   "cell_type": "raw",
   "id": "660a2779",
   "metadata": {},
   "source": [
    "Ans10:\n",
    "The break statement will break the the execution and move outside the loop.\n",
    "The continue statement will move the execution to the start of the loop."
   ]
  },
  {
   "cell_type": "raw",
   "id": "b01e25c8",
   "metadata": {},
   "source": [
    "Q11:\n",
    "In a for loop, what is the difference between range(10), range(0, 10), and range(0, 10, 1)?"
   ]
  },
  {
   "cell_type": "raw",
   "id": "8b593fed",
   "metadata": {},
   "source": [
    "Ans11:\n",
    "All have the same function.\n",
    "The range(10) call ranges from 0 up to 10 (excluding 10), range(0, 10) explicitly tells the loop to start at 0 upto 10 (excluding 10), and range(0, 10, 1) explicitly tells the loop to increase the variable by 1 on each iteration."
   ]
  },
  {
   "cell_type": "raw",
   "id": "917259dc",
   "metadata": {},
   "source": [
    "Q12:\n",
    "Write a short program that prints the numbers 1 to 10 using a for loop. Then write an equivalent program that prints the numbers 1 to 10 using a while loop."
   ]
  },
  {
   "cell_type": "code",
   "execution_count": 19,
   "id": "b57c4994",
   "metadata": {},
   "outputs": [
    {
     "name": "stdout",
     "output_type": "stream",
     "text": [
      "1\n",
      "2\n",
      "3\n",
      "4\n",
      "5\n",
      "6\n",
      "7\n",
      "8\n",
      "9\n",
      "10\n"
     ]
    }
   ],
   "source": [
    "#Ans12:\n",
    "for i in range(1,11):\n",
    "    print(i)"
   ]
  },
  {
   "cell_type": "code",
   "execution_count": 21,
   "id": "c2b06179",
   "metadata": {},
   "outputs": [
    {
     "name": "stdout",
     "output_type": "stream",
     "text": [
      "1\n",
      "2\n",
      "3\n",
      "4\n",
      "5\n",
      "6\n",
      "7\n",
      "8\n",
      "9\n",
      "10\n"
     ]
    }
   ],
   "source": [
    "#Ans12\n",
    "x=1\n",
    "while x<=10:\n",
    "    print(x)\n",
    "    x+=1"
   ]
  },
  {
   "cell_type": "raw",
   "id": "13d5164d",
   "metadata": {},
   "source": [
    "Q13:\n",
    "If you had a function named bacon() inside a module named spam, how would you call it after importing spam?"
   ]
  },
  {
   "cell_type": "raw",
   "id": "d2cf108c",
   "metadata": {},
   "source": [
    "Ans13:\n",
    "When a function is inside a module, then first the module will be imported then function will be called like this: spam.bacon()"
   ]
  }
 ],
 "metadata": {
  "kernelspec": {
   "display_name": "Python 3 (ipykernel)",
   "language": "python",
   "name": "python3"
  },
  "language_info": {
   "codemirror_mode": {
    "name": "ipython",
    "version": 3
   },
   "file_extension": ".py",
   "mimetype": "text/x-python",
   "name": "python",
   "nbconvert_exporter": "python",
   "pygments_lexer": "ipython3",
   "version": "3.9.13"
  }
 },
 "nbformat": 4,
 "nbformat_minor": 5
}
